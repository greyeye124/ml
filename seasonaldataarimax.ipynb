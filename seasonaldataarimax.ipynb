{
  "nbformat": 4,
  "nbformat_minor": 0,
  "metadata": {
    "colab": {
      "provenance": []
    },
    "kernelspec": {
      "name": "python3",
      "display_name": "Python 3"
    },
    "language_info": {
      "name": "python"
    }
  },
  "cells": [
    {
      "cell_type": "code",
      "execution_count": null,
      "metadata": {
        "id": "RuuktD26W7aA"
      },
      "outputs": [],
      "source": [
        "\n",
        "import numpy as np\n",
        "import matplotlib.pyplot as plt\n",
        "import statsmodels.api as sms\n",
        "import pandas as pd\n",
        "%matplotlib inline\n",
        "\n"
      ]
    },
    {
      "cell_type": "code",
      "source": [
        "df=pd.read_csv('/content/airline_passengers.csv')"
      ],
      "metadata": {
        "id": "Li15HiibcQSm"
      },
      "execution_count": null,
      "outputs": []
    },
    {
      "cell_type": "code",
      "source": [
        "df.head()"
      ],
      "metadata": {
        "colab": {
          "base_uri": "https://localhost:8080/",
          "height": 206
        },
        "id": "1uPDibR5dA0l",
        "outputId": "401c0c18-9ec0-4d93-e8bd-e810e3e628ca"
      },
      "execution_count": null,
      "outputs": [
        {
          "output_type": "execute_result",
          "data": {
            "text/plain": [
              "     Month  Thousands of Passengers\n",
              "0  1949-01                    112.0\n",
              "1  1949-02                    118.0\n",
              "2  1949-03                    132.0\n",
              "3  1949-04                    129.0\n",
              "4  1949-05                    121.0"
            ],
            "text/html": [
              "\n",
              "  <div id=\"df-e834052a-48cc-4e13-95ae-42a135ae59c2\">\n",
              "    <div class=\"colab-df-container\">\n",
              "      <div>\n",
              "<style scoped>\n",
              "    .dataframe tbody tr th:only-of-type {\n",
              "        vertical-align: middle;\n",
              "    }\n",
              "\n",
              "    .dataframe tbody tr th {\n",
              "        vertical-align: top;\n",
              "    }\n",
              "\n",
              "    .dataframe thead th {\n",
              "        text-align: right;\n",
              "    }\n",
              "</style>\n",
              "<table border=\"1\" class=\"dataframe\">\n",
              "  <thead>\n",
              "    <tr style=\"text-align: right;\">\n",
              "      <th></th>\n",
              "      <th>Month</th>\n",
              "      <th>Thousands of Passengers</th>\n",
              "    </tr>\n",
              "  </thead>\n",
              "  <tbody>\n",
              "    <tr>\n",
              "      <th>0</th>\n",
              "      <td>1949-01</td>\n",
              "      <td>112.0</td>\n",
              "    </tr>\n",
              "    <tr>\n",
              "      <th>1</th>\n",
              "      <td>1949-02</td>\n",
              "      <td>118.0</td>\n",
              "    </tr>\n",
              "    <tr>\n",
              "      <th>2</th>\n",
              "      <td>1949-03</td>\n",
              "      <td>132.0</td>\n",
              "    </tr>\n",
              "    <tr>\n",
              "      <th>3</th>\n",
              "      <td>1949-04</td>\n",
              "      <td>129.0</td>\n",
              "    </tr>\n",
              "    <tr>\n",
              "      <th>4</th>\n",
              "      <td>1949-05</td>\n",
              "      <td>121.0</td>\n",
              "    </tr>\n",
              "  </tbody>\n",
              "</table>\n",
              "</div>\n",
              "      <button class=\"colab-df-convert\" onclick=\"convertToInteractive('df-e834052a-48cc-4e13-95ae-42a135ae59c2')\"\n",
              "              title=\"Convert this dataframe to an interactive table.\"\n",
              "              style=\"display:none;\">\n",
              "        \n",
              "  <svg xmlns=\"http://www.w3.org/2000/svg\" height=\"24px\"viewBox=\"0 0 24 24\"\n",
              "       width=\"24px\">\n",
              "    <path d=\"M0 0h24v24H0V0z\" fill=\"none\"/>\n",
              "    <path d=\"M18.56 5.44l.94 2.06.94-2.06 2.06-.94-2.06-.94-.94-2.06-.94 2.06-2.06.94zm-11 1L8.5 8.5l.94-2.06 2.06-.94-2.06-.94L8.5 2.5l-.94 2.06-2.06.94zm10 10l.94 2.06.94-2.06 2.06-.94-2.06-.94-.94-2.06-.94 2.06-2.06.94z\"/><path d=\"M17.41 7.96l-1.37-1.37c-.4-.4-.92-.59-1.43-.59-.52 0-1.04.2-1.43.59L10.3 9.45l-7.72 7.72c-.78.78-.78 2.05 0 2.83L4 21.41c.39.39.9.59 1.41.59.51 0 1.02-.2 1.41-.59l7.78-7.78 2.81-2.81c.8-.78.8-2.07 0-2.86zM5.41 20L4 18.59l7.72-7.72 1.47 1.35L5.41 20z\"/>\n",
              "  </svg>\n",
              "      </button>\n",
              "      \n",
              "  <style>\n",
              "    .colab-df-container {\n",
              "      display:flex;\n",
              "      flex-wrap:wrap;\n",
              "      gap: 12px;\n",
              "    }\n",
              "\n",
              "    .colab-df-convert {\n",
              "      background-color: #E8F0FE;\n",
              "      border: none;\n",
              "      border-radius: 50%;\n",
              "      cursor: pointer;\n",
              "      display: none;\n",
              "      fill: #1967D2;\n",
              "      height: 32px;\n",
              "      padding: 0 0 0 0;\n",
              "      width: 32px;\n",
              "    }\n",
              "\n",
              "    .colab-df-convert:hover {\n",
              "      background-color: #E2EBFA;\n",
              "      box-shadow: 0px 1px 2px rgba(60, 64, 67, 0.3), 0px 1px 3px 1px rgba(60, 64, 67, 0.15);\n",
              "      fill: #174EA6;\n",
              "    }\n",
              "\n",
              "    [theme=dark] .colab-df-convert {\n",
              "      background-color: #3B4455;\n",
              "      fill: #D2E3FC;\n",
              "    }\n",
              "\n",
              "    [theme=dark] .colab-df-convert:hover {\n",
              "      background-color: #434B5C;\n",
              "      box-shadow: 0px 1px 3px 1px rgba(0, 0, 0, 0.15);\n",
              "      filter: drop-shadow(0px 1px 2px rgba(0, 0, 0, 0.3));\n",
              "      fill: #FFFFFF;\n",
              "    }\n",
              "  </style>\n",
              "\n",
              "      <script>\n",
              "        const buttonEl =\n",
              "          document.querySelector('#df-e834052a-48cc-4e13-95ae-42a135ae59c2 button.colab-df-convert');\n",
              "        buttonEl.style.display =\n",
              "          google.colab.kernel.accessAllowed ? 'block' : 'none';\n",
              "\n",
              "        async function convertToInteractive(key) {\n",
              "          const element = document.querySelector('#df-e834052a-48cc-4e13-95ae-42a135ae59c2');\n",
              "          const dataTable =\n",
              "            await google.colab.kernel.invokeFunction('convertToInteractive',\n",
              "                                                     [key], {});\n",
              "          if (!dataTable) return;\n",
              "\n",
              "          const docLinkHtml = 'Like what you see? Visit the ' +\n",
              "            '<a target=\"_blank\" href=https://colab.research.google.com/notebooks/data_table.ipynb>data table notebook</a>'\n",
              "            + ' to learn more about interactive tables.';\n",
              "          element.innerHTML = '';\n",
              "          dataTable['output_type'] = 'display_data';\n",
              "          await google.colab.output.renderOutput(dataTable, element);\n",
              "          const docLink = document.createElement('div');\n",
              "          docLink.innerHTML = docLinkHtml;\n",
              "          element.appendChild(docLink);\n",
              "        }\n",
              "      </script>\n",
              "    </div>\n",
              "  </div>\n",
              "  "
            ]
          },
          "metadata": {},
          "execution_count": 3
        }
      ]
    },
    {
      "cell_type": "markdown",
      "source": [
        "Moving average: "
      ],
      "metadata": {
        "id": "5Q_xXHiG-s_X"
      }
    },
    {
      "cell_type": "code",
      "source": [
        "df.isnull().sum()\n"
      ],
      "metadata": {
        "colab": {
          "base_uri": "https://localhost:8080/"
        },
        "id": "ugCT3nxXdJCp",
        "outputId": "88bab143-91c4-4f07-adc5-c942f65b4cd4"
      },
      "execution_count": null,
      "outputs": [
        {
          "output_type": "execute_result",
          "data": {
            "text/plain": [
              "Month                      0\n",
              "Thousands of Passengers    1\n",
              "dtype: int64"
            ]
          },
          "metadata": {},
          "execution_count": 4
        }
      ]
    },
    {
      "cell_type": "code",
      "source": [
        "df.dropna(axis=0,inplace=True)"
      ],
      "metadata": {
        "id": "Lb2rgFeBfpWs"
      },
      "execution_count": null,
      "outputs": []
    },
    {
      "cell_type": "code",
      "source": [
        "df['Month']=pd.to_datetime(df['Month'])"
      ],
      "metadata": {
        "id": "aGtYNIFdLiLc"
      },
      "execution_count": null,
      "outputs": []
    },
    {
      "cell_type": "code",
      "source": [
        "df.set_index('Month',inplace=True)"
      ],
      "metadata": {
        "id": "iQYad5DUL0lB"
      },
      "execution_count": null,
      "outputs": []
    },
    {
      "cell_type": "code",
      "source": [
        "df.head()"
      ],
      "metadata": {
        "colab": {
          "base_uri": "https://localhost:8080/",
          "height": 237
        },
        "id": "kzcP1PZnL6E1",
        "outputId": "666d4098-c279-4470-8b93-7a8a8b3a3579"
      },
      "execution_count": null,
      "outputs": [
        {
          "output_type": "execute_result",
          "data": {
            "text/plain": [
              "            Thousands of Passengers\n",
              "Month                              \n",
              "1949-01-01                    112.0\n",
              "1949-02-01                    118.0\n",
              "1949-03-01                    132.0\n",
              "1949-04-01                    129.0\n",
              "1949-05-01                    121.0"
            ],
            "text/html": [
              "\n",
              "  <div id=\"df-56841596-a268-4bf2-ba58-c82bb61915bc\">\n",
              "    <div class=\"colab-df-container\">\n",
              "      <div>\n",
              "<style scoped>\n",
              "    .dataframe tbody tr th:only-of-type {\n",
              "        vertical-align: middle;\n",
              "    }\n",
              "\n",
              "    .dataframe tbody tr th {\n",
              "        vertical-align: top;\n",
              "    }\n",
              "\n",
              "    .dataframe thead th {\n",
              "        text-align: right;\n",
              "    }\n",
              "</style>\n",
              "<table border=\"1\" class=\"dataframe\">\n",
              "  <thead>\n",
              "    <tr style=\"text-align: right;\">\n",
              "      <th></th>\n",
              "      <th>Thousands of Passengers</th>\n",
              "    </tr>\n",
              "    <tr>\n",
              "      <th>Month</th>\n",
              "      <th></th>\n",
              "    </tr>\n",
              "  </thead>\n",
              "  <tbody>\n",
              "    <tr>\n",
              "      <th>1949-01-01</th>\n",
              "      <td>112.0</td>\n",
              "    </tr>\n",
              "    <tr>\n",
              "      <th>1949-02-01</th>\n",
              "      <td>118.0</td>\n",
              "    </tr>\n",
              "    <tr>\n",
              "      <th>1949-03-01</th>\n",
              "      <td>132.0</td>\n",
              "    </tr>\n",
              "    <tr>\n",
              "      <th>1949-04-01</th>\n",
              "      <td>129.0</td>\n",
              "    </tr>\n",
              "    <tr>\n",
              "      <th>1949-05-01</th>\n",
              "      <td>121.0</td>\n",
              "    </tr>\n",
              "  </tbody>\n",
              "</table>\n",
              "</div>\n",
              "      <button class=\"colab-df-convert\" onclick=\"convertToInteractive('df-56841596-a268-4bf2-ba58-c82bb61915bc')\"\n",
              "              title=\"Convert this dataframe to an interactive table.\"\n",
              "              style=\"display:none;\">\n",
              "        \n",
              "  <svg xmlns=\"http://www.w3.org/2000/svg\" height=\"24px\"viewBox=\"0 0 24 24\"\n",
              "       width=\"24px\">\n",
              "    <path d=\"M0 0h24v24H0V0z\" fill=\"none\"/>\n",
              "    <path d=\"M18.56 5.44l.94 2.06.94-2.06 2.06-.94-2.06-.94-.94-2.06-.94 2.06-2.06.94zm-11 1L8.5 8.5l.94-2.06 2.06-.94-2.06-.94L8.5 2.5l-.94 2.06-2.06.94zm10 10l.94 2.06.94-2.06 2.06-.94-2.06-.94-.94-2.06-.94 2.06-2.06.94z\"/><path d=\"M17.41 7.96l-1.37-1.37c-.4-.4-.92-.59-1.43-.59-.52 0-1.04.2-1.43.59L10.3 9.45l-7.72 7.72c-.78.78-.78 2.05 0 2.83L4 21.41c.39.39.9.59 1.41.59.51 0 1.02-.2 1.41-.59l7.78-7.78 2.81-2.81c.8-.78.8-2.07 0-2.86zM5.41 20L4 18.59l7.72-7.72 1.47 1.35L5.41 20z\"/>\n",
              "  </svg>\n",
              "      </button>\n",
              "      \n",
              "  <style>\n",
              "    .colab-df-container {\n",
              "      display:flex;\n",
              "      flex-wrap:wrap;\n",
              "      gap: 12px;\n",
              "    }\n",
              "\n",
              "    .colab-df-convert {\n",
              "      background-color: #E8F0FE;\n",
              "      border: none;\n",
              "      border-radius: 50%;\n",
              "      cursor: pointer;\n",
              "      display: none;\n",
              "      fill: #1967D2;\n",
              "      height: 32px;\n",
              "      padding: 0 0 0 0;\n",
              "      width: 32px;\n",
              "    }\n",
              "\n",
              "    .colab-df-convert:hover {\n",
              "      background-color: #E2EBFA;\n",
              "      box-shadow: 0px 1px 2px rgba(60, 64, 67, 0.3), 0px 1px 3px 1px rgba(60, 64, 67, 0.15);\n",
              "      fill: #174EA6;\n",
              "    }\n",
              "\n",
              "    [theme=dark] .colab-df-convert {\n",
              "      background-color: #3B4455;\n",
              "      fill: #D2E3FC;\n",
              "    }\n",
              "\n",
              "    [theme=dark] .colab-df-convert:hover {\n",
              "      background-color: #434B5C;\n",
              "      box-shadow: 0px 1px 3px 1px rgba(0, 0, 0, 0.15);\n",
              "      filter: drop-shadow(0px 1px 2px rgba(0, 0, 0, 0.3));\n",
              "      fill: #FFFFFF;\n",
              "    }\n",
              "  </style>\n",
              "\n",
              "      <script>\n",
              "        const buttonEl =\n",
              "          document.querySelector('#df-56841596-a268-4bf2-ba58-c82bb61915bc button.colab-df-convert');\n",
              "        buttonEl.style.display =\n",
              "          google.colab.kernel.accessAllowed ? 'block' : 'none';\n",
              "\n",
              "        async function convertToInteractive(key) {\n",
              "          const element = document.querySelector('#df-56841596-a268-4bf2-ba58-c82bb61915bc');\n",
              "          const dataTable =\n",
              "            await google.colab.kernel.invokeFunction('convertToInteractive',\n",
              "                                                     [key], {});\n",
              "          if (!dataTable) return;\n",
              "\n",
              "          const docLinkHtml = 'Like what you see? Visit the ' +\n",
              "            '<a target=\"_blank\" href=https://colab.research.google.com/notebooks/data_table.ipynb>data table notebook</a>'\n",
              "            + ' to learn more about interactive tables.';\n",
              "          element.innerHTML = '';\n",
              "          dataTable['output_type'] = 'display_data';\n",
              "          await google.colab.output.renderOutput(dataTable, element);\n",
              "          const docLink = document.createElement('div');\n",
              "          docLink.innerHTML = docLinkHtml;\n",
              "          element.appendChild(docLink);\n",
              "        }\n",
              "      </script>\n",
              "    </div>\n",
              "  </div>\n",
              "  "
            ]
          },
          "metadata": {},
          "execution_count": 8
        }
      ]
    },
    {
      "cell_type": "code",
      "source": [
        "df.plot()"
      ],
      "metadata": {
        "colab": {
          "base_uri": "https://localhost:8080/",
          "height": 466
        },
        "id": "jlFj-c_mL-Pk",
        "outputId": "33ac9214-1dee-4a69-a7e5-1040381a0517"
      },
      "execution_count": null,
      "outputs": [
        {
          "output_type": "execute_result",
          "data": {
            "text/plain": [
              "<Axes: xlabel='Month'>"
            ]
          },
          "metadata": {},
          "execution_count": 9
        },
        {
          "output_type": "display_data",
          "data": {
            "text/plain": [
              "<Figure size 640x480 with 1 Axes>"
            ],
            "image/png": "[encoded data removed]"
          },
          "metadata": {}
        }
      ]
    },
    {
      "cell_type": "markdown",
      "source": [
        "seasonal data: non stationary data"
      ],
      "metadata": {
        "id": "VVIBwZGZMHP_"
      }
    },
    {
      "cell_type": "code",
      "source": [
        "from statsmodels.tsa.stattools import adfuller"
      ],
      "metadata": {
        "id": "VlKQ5StsMWdj"
      },
      "execution_count": null,
      "outputs": []
    },
    {
      "cell_type": "code",
      "source": [
        "def adf_test(series):\n",
        "  result=adfuller(series)\n",
        "  print('ADF Statistics: {}'.format(result[0]))\n",
        "  print('p: {}'.format(result[1]))\n",
        "  if result[1]<=0.05:\n",
        "    print('reject null hypot')\n",
        "  else:\n",
        "    print('unit root exists,non stationary')\n",
        "    "
      ],
      "metadata": {
        "id": "tCP9X9ZZNJeR"
      },
      "execution_count": null,
      "outputs": []
    },
    {
      "cell_type": "code",
      "source": [
        "adf_test(df['Thousands of Passengers'])"
      ],
      "metadata": {
        "colab": {
          "base_uri": "https://localhost:8080/"
        },
        "id": "vhawTjMMN_Hf",
        "outputId": "6d61ffef-b3e3-4076-bcba-e34bec2596d7"
      },
      "execution_count": null,
      "outputs": [
        {
          "output_type": "stream",
          "name": "stdout",
          "text": [
            "ADF Statistics: 0.8153688792060498\n",
            "p: 0.991880243437641\n",
            "unit root exists,non stationary\n"
          ]
        }
      ]
    },
    {
      "cell_type": "code",
      "source": [
        "df['first difference']=df['Thousands of Passengers']-df['Thousands of Passengers'].shift(1)"
      ],
      "metadata": {
        "id": "12A2YNpJOG9q"
      },
      "execution_count": null,
      "outputs": []
    },
    {
      "cell_type": "code",
      "source": [
        "df.head()"
      ],
      "metadata": {
        "colab": {
          "base_uri": "https://localhost:8080/",
          "height": 237
        },
        "id": "k0_rycQ2Oln3",
        "outputId": "d5deff48-9ce7-45bd-de05-89fb51028dc8"
      },
      "execution_count": null,
      "outputs": [
        {
          "output_type": "execute_result",
          "data": {
            "text/plain": [
              "            Thousands of Passengers  first difference\n",
              "Month                                                \n",
              "1949-01-01                    112.0               NaN\n",
              "1949-02-01                    118.0               6.0\n",
              "1949-03-01                    132.0              14.0\n",
              "1949-04-01                    129.0              -3.0\n",
              "1949-05-01                    121.0              -8.0"
            ],
            "text/html": [
              "\n",
              "  <div id=\"df-241a7c7d-a0c6-48b0-8dff-d0596329f5b4\">\n",
              "    <div class=\"colab-df-container\">\n",
              "      <div>\n",
              "<style scoped>\n",
              "    .dataframe tbody tr th:only-of-type {\n",
              "        vertical-align: middle;\n",
              "    }\n",
              "\n",
              "    .dataframe tbody tr th {\n",
              "        vertical-align: top;\n",
              "    }\n",
              "\n",
              "    .dataframe thead th {\n",
              "        text-align: right;\n",
              "    }\n",
              "</style>\n",
              "<table border=\"1\" class=\"dataframe\">\n",
              "  <thead>\n",
              "    <tr style=\"text-align: right;\">\n",
              "      <th></th>\n",
              "      <th>Thousands of Passengers</th>\n",
              "      <th>first difference</th>\n",
              "    </tr>\n",
              "    <tr>\n",
              "      <th>Month</th>\n",
              "      <th></th>\n",
              "      <th></th>\n",
              "    </tr>\n",
              "  </thead>\n",
              "  <tbody>\n",
              "    <tr>\n",
              "      <th>1949-01-01</th>\n",
              "      <td>112.0</td>\n",
              "      <td>NaN</td>\n",
              "    </tr>\n",
              "    <tr>\n",
              "      <th>1949-02-01</th>\n",
              "      <td>118.0</td>\n",
              "      <td>6.0</td>\n",
              "    </tr>\n",
              "    <tr>\n",
              "      <th>1949-03-01</th>\n",
              "      <td>132.0</td>\n",
              "      <td>14.0</td>\n",
              "    </tr>\n",
              "    <tr>\n",
              "      <th>1949-04-01</th>\n",
              "      <td>129.0</td>\n",
              "      <td>-3.0</td>\n",
              "    </tr>\n",
              "    <tr>\n",
              "      <th>1949-05-01</th>\n",
              "      <td>121.0</td>\n",
              "      <td>-8.0</td>\n",
              "    </tr>\n",
              "  </tbody>\n",
              "</table>\n",
              "</div>\n",
              "      <button class=\"colab-df-convert\" onclick=\"convertToInteractive('df-241a7c7d-a0c6-48b0-8dff-d0596329f5b4')\"\n",
              "              title=\"Convert this dataframe to an interactive table.\"\n",
              "              style=\"display:none;\">\n",
              "        \n",
              "  <svg xmlns=\"http://www.w3.org/2000/svg\" height=\"24px\"viewBox=\"0 0 24 24\"\n",
              "       width=\"24px\">\n",
              "    <path d=\"M0 0h24v24H0V0z\" fill=\"none\"/>\n",
              "    <path d=\"M18.56 5.44l.94 2.06.94-2.06 2.06-.94-2.06-.94-.94-2.06-.94 2.06-2.06.94zm-11 1L8.5 8.5l.94-2.06 2.06-.94-2.06-.94L8.5 2.5l-.94 2.06-2.06.94zm10 10l.94 2.06.94-2.06 2.06-.94-2.06-.94-.94-2.06-.94 2.06-2.06.94z\"/><path d=\"M17.41 7.96l-1.37-1.37c-.4-.4-.92-.59-1.43-.59-.52 0-1.04.2-1.43.59L10.3 9.45l-7.72 7.72c-.78.78-.78 2.05 0 2.83L4 21.41c.39.39.9.59 1.41.59.51 0 1.02-.2 1.41-.59l7.78-7.78 2.81-2.81c.8-.78.8-2.07 0-2.86zM5.41 20L4 18.59l7.72-7.72 1.47 1.35L5.41 20z\"/>\n",
              "  </svg>\n",
              "      </button>\n",
              "      \n",
              "  <style>\n",
              "    .colab-df-container {\n",
              "      display:flex;\n",
              "      flex-wrap:wrap;\n",
              "      gap: 12px;\n",
              "    }\n",
              "\n",
              "    .colab-df-convert {\n",
              "      background-color: #E8F0FE;\n",
              "      border: none;\n",
              "      border-radius: 50%;\n",
              "      cursor: pointer;\n",
              "      display: none;\n",
              "      fill: #1967D2;\n",
              "      height: 32px;\n",
              "      padding: 0 0 0 0;\n",
              "      width: 32px;\n",
              "    }\n",
              "\n",
              "    .colab-df-convert:hover {\n",
              "      background-color: #E2EBFA;\n",
              "      box-shadow: 0px 1px 2px rgba(60, 64, 67, 0.3), 0px 1px 3px 1px rgba(60, 64, 67, 0.15);\n",
              "      fill: #174EA6;\n",
              "    }\n",
              "\n",
              "    [theme=dark] .colab-df-convert {\n",
              "      background-color: #3B4455;\n",
              "      fill: #D2E3FC;\n",
              "    }\n",
              "\n",
              "    [theme=dark] .colab-df-convert:hover {\n",
              "      background-color: #434B5C;\n",
              "      box-shadow: 0px 1px 3px 1px rgba(0, 0, 0, 0.15);\n",
              "      filter: drop-shadow(0px 1px 2px rgba(0, 0, 0, 0.3));\n",
              "      fill: #FFFFFF;\n",
              "    }\n",
              "  </style>\n",
              "\n",
              "      <script>\n",
              "        const buttonEl =\n",
              "          document.querySelector('#df-241a7c7d-a0c6-48b0-8dff-d0596329f5b4 button.colab-df-convert');\n",
              "        buttonEl.style.display =\n",
              "          google.colab.kernel.accessAllowed ? 'block' : 'none';\n",
              "\n",
              "        async function convertToInteractive(key) {\n",
              "          const element = document.querySelector('#df-241a7c7d-a0c6-48b0-8dff-d0596329f5b4');\n",
              "          const dataTable =\n",
              "            await google.colab.kernel.invokeFunction('convertToInteractive',\n",
              "                                                     [key], {});\n",
              "          if (!dataTable) return;\n",
              "\n",
              "          const docLinkHtml = 'Like what you see? Visit the ' +\n",
              "            '<a target=\"_blank\" href=https://colab.research.google.com/notebooks/data_table.ipynb>data table notebook</a>'\n",
              "            + ' to learn more about interactive tables.';\n",
              "          element.innerHTML = '';\n",
              "          dataTable['output_type'] = 'display_data';\n",
              "          await google.colab.output.renderOutput(dataTable, element);\n",
              "          const docLink = document.createElement('div');\n",
              "          docLink.innerHTML = docLinkHtml;\n",
              "          element.appendChild(docLink);\n",
              "        }\n",
              "      </script>\n",
              "    </div>\n",
              "  </div>\n",
              "  "
            ]
          },
          "metadata": {},
          "execution_count": 14
        }
      ]
    },
    {
      "cell_type": "code",
      "source": [
        "adf_test(df['first difference'].dropna())"
      ],
      "metadata": {
        "colab": {
          "base_uri": "https://localhost:8080/"
        },
        "id": "W-vIdPthOW7k",
        "outputId": "aedde5ef-9a8d-4475-d5ec-f9b28558d693"
      },
      "execution_count": null,
      "outputs": [
        {
          "output_type": "stream",
          "name": "stdout",
          "text": [
            "ADF Statistics: -2.8292668241700047\n",
            "p: 0.05421329028382478\n",
            "unit root exists,non stationary\n"
          ]
        }
      ]
    },
    {
      "cell_type": "code",
      "source": [
        "df['second difference']=df['first difference']-df['first difference'].shift(1)"
      ],
      "metadata": {
        "id": "fKcbPrGKOzPG"
      },
      "execution_count": null,
      "outputs": []
    },
    {
      "cell_type": "code",
      "source": [
        "adf_test(df['second difference'].dropna())"
      ],
      "metadata": {
        "colab": {
          "base_uri": "https://localhost:8080/"
        },
        "id": "H9s1nh1FPAXD",
        "outputId": "0ce67111-0da7-4360-828b-dae4c88df80e"
      },
      "execution_count": null,
      "outputs": [
        {
          "output_type": "stream",
          "name": "stdout",
          "text": [
            "ADF Statistics: -16.384231542468513\n",
            "p: 2.7328918500142026e-29\n",
            "reject null hypot\n"
          ]
        }
      ]
    },
    {
      "cell_type": "code",
      "source": [
        "from statsmodels.graphics.tsaplots import plot_acf, plot_pacf"
      ],
      "metadata": {
        "id": "hjOQH72PPIM7"
      },
      "execution_count": null,
      "outputs": []
    },
    {
      "cell_type": "code",
      "source": [
        "acf=plot_acf(df['second difference'].dropna())"
      ],
      "metadata": {
        "colab": {
          "base_uri": "https://localhost:8080/",
          "height": 452
        },
        "id": "vwSoaBCtPfW2",
        "outputId": "b2f936ec-348c-49df-da68-731dede381fb"
      },
      "execution_count": null,
      "outputs": [
        {
          "output_type": "display_data",
          "data": {
            "text/plain": [
              "<Figure size 640x480 with 1 Axes>"
            ],
            "image/png": "[encoded data removed]"
          },
          "metadata": {}
        }
      ]
    },
    {
      "cell_type": "code",
      "source": [
        "acf=plot_acf(df['first difference'].dropna())"
      ],
      "metadata": {
        "colab": {
          "base_uri": "https://localhost:8080/",
          "height": 452
        },
        "id": "e0cDtktUPt61",
        "outputId": "31fe6614-da63-49da-eb3b-6da3b8ac9907"
      },
      "execution_count": null,
      "outputs": [
        {
          "output_type": "display_data",
          "data": {
            "text/plain": [
              "<Figure size 640x480 with 1 Axes>"
            ],
            "image/png": "[encoded data removed]"
          },
          "metadata": {}
        }
      ]
    },
    {
      "cell_type": "code",
      "source": [
        "acf=plot_acf(df['Thousands of Passengers'].dropna())"
      ],
      "metadata": {
        "colab": {
          "base_uri": "https://localhost:8080/",
          "height": 452
        },
        "id": "dqnvl26jP7Lx",
        "outputId": "042f5e21-938d-487b-8948-1aec9c70e13b"
      },
      "execution_count": null,
      "outputs": [
        {
          "output_type": "display_data",
          "data": {
            "text/plain": [
              "<Figure size 640x480 with 1 Axes>"
            ],
            "image/png": "[encoded data removed]"
          },
          "metadata": {}
        }
      ]
    },
    {
      "cell_type": "code",
      "source": [
        "df['twelve difference']=df['Thousands of Passengers']-df['Thousands of Passengers'].shift(12)"
      ],
      "metadata": {
        "id": "k_5yLQWGSpqM"
      },
      "execution_count": null,
      "outputs": []
    },
    {
      "cell_type": "code",
      "source": [
        "pacf12=plot_pacf(df['twelve difference'].dropna())"
      ],
      "metadata": {
        "colab": {
          "base_uri": "https://localhost:8080/",
          "height": 507
        },
        "id": "t2PtM32lS0Ra",
        "outputId": "9da8c35e-84cd-4626-c094-ce5c75a2488a"
      },
      "execution_count": null,
      "outputs": [
        {
          "output_type": "stream",
          "name": "stderr",
          "text": [
            "/usr/local/lib/python3.10/dist-packages/statsmodels/graphics/tsaplots.py:348: FutureWarning: The default method 'yw' can produce PACF values outside of the [-1,1] interval. After 0.13, the default will change tounadjusted Yule-Walker ('ywm'). You can use this method now by setting method='ywm'.\n",
            "  warnings.warn(\n"
          ]
        },
        {
          "output_type": "display_data",
          "data": {
            "text/plain": [
              "<Figure size 640x480 with 1 Axes>"
            ],
            "image/png": "[encoded data removed]"
          },
          "metadata": {}
        }
      ]
    },
    {
      "cell_type": "code",
      "source": [
        "from datetime import datetime, timedelta\n",
        "train_end=datetime(1955,12,1)\n",
        "test_end=datetime(1960,12,1)\n"
      ],
      "metadata": {
        "id": "0HElXhHeTAkC"
      },
      "execution_count": null,
      "outputs": []
    },
    {
      "cell_type": "code",
      "source": [
        "train_data=df[:train_end]\n",
        "testdata=df[train_end +timedelta(days=1):test_end]"
      ],
      "metadata": {
        "id": "tFkW6TdYT3Xy"
      },
      "execution_count": null,
      "outputs": []
    },
    {
      "cell_type": "code",
      "source": [
        "pred_startdate=testdata.index[0]\n",
        "pred_enddate=testdata.index[-1]"
      ],
      "metadata": {
        "id": "xSA5RBxfT-rn"
      },
      "execution_count": null,
      "outputs": []
    },
    {
      "cell_type": "code",
      "source": [
        "train_end"
      ],
      "metadata": {
        "colab": {
          "base_uri": "https://localhost:8080/"
        },
        "id": "bCL9FxWukQQt",
        "outputId": "2f5e74e3-3b29-490d-e703-ea463ebe203b"
      },
      "execution_count": null,
      "outputs": [
        {
          "output_type": "execute_result",
          "data": {
            "text/plain": [
              "datetime.datetime(1955, 12, 1, 0, 0)"
            ]
          },
          "metadata": {},
          "execution_count": 46
        }
      ]
    },
    {
      "cell_type": "code",
      "source": [
        "testdata"
      ],
      "metadata": {
        "colab": {
          "base_uri": "https://localhost:8080/",
          "height": 1000
        },
        "id": "fPHR9ZlmT70N",
        "outputId": "78a27b3c-fc51-4797-bc6a-fd5870ce70f5"
      },
      "execution_count": null,
      "outputs": [
        {
          "output_type": "execute_result",
          "data": {
            "text/plain": [
              "            Thousands of Passengers  first difference  second difference  \\\n",
              "Month                                                                      \n",
              "1956-01-01                    284.0               6.0              -35.0   \n",
              "1956-02-01                    277.0              -7.0              -13.0   \n",
              "1956-03-01                    317.0              40.0               47.0   \n",
              "1956-04-01                    313.0              -4.0              -44.0   \n",
              "1956-05-01                    318.0               5.0                9.0   \n",
              "1956-06-01                    374.0              56.0               51.0   \n",
              "1956-07-01                    413.0              39.0              -17.0   \n",
              "1956-08-01                    405.0              -8.0              -47.0   \n",
              "1956-09-01                    355.0             -50.0              -42.0   \n",
              "1956-10-01                    306.0             -49.0                1.0   \n",
              "1956-11-01                    271.0             -35.0               14.0   \n",
              "1956-12-01                    306.0              35.0               70.0   \n",
              "1957-01-01                    315.0               9.0              -26.0   \n",
              "1957-02-01                    301.0             -14.0              -23.0   \n",
              "1957-03-01                    356.0              55.0               69.0   \n",
              "1957-04-01                    348.0              -8.0              -63.0   \n",
              "1957-05-01                    355.0               7.0               15.0   \n",
              "1957-06-01                    422.0              67.0               60.0   \n",
              "1957-07-01                    465.0              43.0              -24.0   \n",
              "1957-08-01                    467.0               2.0              -41.0   \n",
              "1957-09-01                    404.0             -63.0              -65.0   \n",
              "1957-10-01                    347.0             -57.0                6.0   \n",
              "1957-11-01                    305.0             -42.0               15.0   \n",
              "1957-12-01                    336.0              31.0               73.0   \n",
              "1958-01-01                    340.0               4.0              -27.0   \n",
              "1958-02-01                    318.0             -22.0              -26.0   \n",
              "1958-03-01                    362.0              44.0               66.0   \n",
              "1958-04-01                    348.0             -14.0              -58.0   \n",
              "1958-05-01                    363.0              15.0               29.0   \n",
              "1958-06-01                    435.0              72.0               57.0   \n",
              "1958-07-01                    491.0              56.0              -16.0   \n",
              "1958-08-01                    505.0              14.0              -42.0   \n",
              "1958-09-01                    404.0            -101.0             -115.0   \n",
              "1958-10-01                    359.0             -45.0               56.0   \n",
              "1958-11-01                    310.0             -49.0               -4.0   \n",
              "1958-12-01                    337.0              27.0               76.0   \n",
              "1959-01-01                    360.0              23.0               -4.0   \n",
              "1959-02-01                    342.0             -18.0              -41.0   \n",
              "1959-03-01                    406.0              64.0               82.0   \n",
              "1959-04-01                    396.0             -10.0              -74.0   \n",
              "1959-05-01                    420.0              24.0               34.0   \n",
              "1959-06-01                    472.0              52.0               28.0   \n",
              "1959-07-01                    548.0              76.0               24.0   \n",
              "1959-08-01                    559.0              11.0              -65.0   \n",
              "1959-09-01                    463.0             -96.0             -107.0   \n",
              "1959-10-01                    407.0             -56.0               40.0   \n",
              "1959-11-01                    362.0             -45.0               11.0   \n",
              "1959-12-01                    405.0              43.0               88.0   \n",
              "1960-01-01                    417.0              12.0              -31.0   \n",
              "1960-02-01                    391.0             -26.0              -38.0   \n",
              "1960-03-01                    419.0              28.0               54.0   \n",
              "1960-04-01                    461.0              42.0               14.0   \n",
              "1960-05-01                    472.0              11.0              -31.0   \n",
              "1960-06-01                    535.0              63.0               52.0   \n",
              "1960-07-01                    622.0              87.0               24.0   \n",
              "1960-08-01                    606.0             -16.0             -103.0   \n",
              "1960-09-01                    508.0             -98.0              -82.0   \n",
              "1960-10-01                    461.0             -47.0               51.0   \n",
              "1960-11-01                    390.0             -71.0              -24.0   \n",
              "1960-12-01                    432.0              42.0              113.0   \n",
              "\n",
              "            twelve difference  \n",
              "Month                          \n",
              "1956-01-01               42.0  \n",
              "1956-02-01               44.0  \n",
              "1956-03-01               50.0  \n",
              "1956-04-01               44.0  \n",
              "1956-05-01               48.0  \n",
              "1956-06-01               59.0  \n",
              "1956-07-01               49.0  \n",
              "1956-08-01               58.0  \n",
              "1956-09-01               43.0  \n",
              "1956-10-01               32.0  \n",
              "1956-11-01               34.0  \n",
              "1956-12-01               28.0  \n",
              "1957-01-01               31.0  \n",
              "1957-02-01               24.0  \n",
              "1957-03-01               39.0  \n",
              "1957-04-01               35.0  \n",
              "1957-05-01               37.0  \n",
              "1957-06-01               48.0  \n",
              "1957-07-01               52.0  \n",
              "1957-08-01               62.0  \n",
              "1957-09-01               49.0  \n",
              "1957-10-01               41.0  \n",
              "1957-11-01               34.0  \n",
              "1957-12-01               30.0  \n",
              "1958-01-01               25.0  \n",
              "1958-02-01               17.0  \n",
              "1958-03-01                6.0  \n",
              "1958-04-01                0.0  \n",
              "1958-05-01                8.0  \n",
              "1958-06-01               13.0  \n",
              "1958-07-01               26.0  \n",
              "1958-08-01               38.0  \n",
              "1958-09-01                0.0  \n",
              "1958-10-01               12.0  \n",
              "1958-11-01                5.0  \n",
              "1958-12-01                1.0  \n",
              "1959-01-01               20.0  \n",
              "1959-02-01               24.0  \n",
              "1959-03-01               44.0  \n",
              "1959-04-01               48.0  \n",
              "1959-05-01               57.0  \n",
              "1959-06-01               37.0  \n",
              "1959-07-01               57.0  \n",
              "1959-08-01               54.0  \n",
              "1959-09-01               59.0  \n",
              "1959-10-01               48.0  \n",
              "1959-11-01               52.0  \n",
              "1959-12-01               68.0  \n",
              "1960-01-01               57.0  \n",
              "1960-02-01               49.0  \n",
              "1960-03-01               13.0  \n",
              "1960-04-01               65.0  \n",
              "1960-05-01               52.0  \n",
              "1960-06-01               63.0  \n",
              "1960-07-01               74.0  \n",
              "1960-08-01               47.0  \n",
              "1960-09-01               45.0  \n",
              "1960-10-01               54.0  \n",
              "1960-11-01               28.0  \n",
              "1960-12-01               27.0  "
            ],
            "text/html": [
              "\n",
              "  <div id=\"df-b003bd55-51e2-4b5c-ba20-4327bdf3ab3d\">\n",
              "    <div class=\"colab-df-container\">\n",
              "      <div>\n",
              "<style scoped>\n",
              "    .dataframe tbody tr th:only-of-type {\n",
              "        vertical-align: middle;\n",
              "    }\n",
              "\n",
              "    .dataframe tbody tr th {\n",
              "        vertical-align: top;\n",
              "    }\n",
              "\n",
              "    .dataframe thead th {\n",
              "        text-align: right;\n",
              "    }\n",
              "</style>\n",
              "<table border=\"1\" class=\"dataframe\">\n",
              "  <thead>\n",
              "    <tr style=\"text-align: right;\">\n",
              "      <th></th>\n",
              "      <th>Thousands of Passengers</th>\n",
              "      <th>first difference</th>\n",
              "      <th>second difference</th>\n",
              "      <th>twelve difference</th>\n",
              "    </tr>\n",
              "    <tr>\n",
              "      <th>Month</th>\n",
              "      <th></th>\n",
              "      <th></th>\n",
              "      <th></th>\n",
              "      <th></th>\n",
              "    </tr>\n",
              "  </thead>\n",
              "  <tbody>\n",
              "    <tr>\n",
              "      <th>1956-01-01</th>\n",
              "      <td>284.0</td>\n",
              "      <td>6.0</td>\n",
              "      <td>-35.0</td>\n",
              "      <td>42.0</td>\n",
              "    </tr>\n",
              "    <tr>\n",
              "      <th>1956-02-01</th>\n",
              "      <td>277.0</td>\n",
              "      <td>-7.0</td>\n",
              "      <td>-13.0</td>\n",
              "      <td>44.0</td>\n",
              "    </tr>\n",
              "    <tr>\n",
              "      <th>1956-03-01</th>\n",
              "      <td>317.0</td>\n",
              "      <td>40.0</td>\n",
              "      <td>47.0</td>\n",
              "      <td>50.0</td>\n",
              "    </tr>\n",
              "    <tr>\n",
              "      <th>1956-04-01</th>\n",
              "      <td>313.0</td>\n",
              "      <td>-4.0</td>\n",
              "      <td>-44.0</td>\n",
              "      <td>44.0</td>\n",
              "    </tr>\n",
              "    <tr>\n",
              "      <th>1956-05-01</th>\n",
              "      <td>318.0</td>\n",
              "      <td>5.0</td>\n",
              "      <td>9.0</td>\n",
              "      <td>48.0</td>\n",
              "    </tr>\n",
              "    <tr>\n",
              "      <th>1956-06-01</th>\n",
              "      <td>374.0</td>\n",
              "      <td>56.0</td>\n",
              "      <td>51.0</td>\n",
              "      <td>59.0</td>\n",
              "    </tr>\n",
              "    <tr>\n",
              "      <th>1956-07-01</th>\n",
              "      <td>413.0</td>\n",
              "      <td>39.0</td>\n",
              "      <td>-17.0</td>\n",
              "      <td>49.0</td>\n",
              "    </tr>\n",
              "    <tr>\n",
              "      <th>1956-08-01</th>\n",
              "      <td>405.0</td>\n",
              "      <td>-8.0</td>\n",
              "      <td>-47.0</td>\n",
              "      <td>58.0</td>\n",
              "    </tr>\n",
              "    <tr>\n",
              "      <th>1956-09-01</th>\n",
              "      <td>355.0</td>\n",
              "      <td>-50.0</td>\n",
              "      <td>-42.0</td>\n",
              "      <td>43.0</td>\n",
              "    </tr>\n",
              "    <tr>\n",
              "      <th>1956-10-01</th>\n",
              "      <td>306.0</td>\n",
              "      <td>-49.0</td>\n",
              "      <td>1.0</td>\n",
              "      <td>32.0</td>\n",
              "    </tr>\n",
              "    <tr>\n",
              "      <th>1956-11-01</th>\n",
              "      <td>271.0</td>\n",
              "      <td>-35.0</td>\n",
              "      <td>14.0</td>\n",
              "      <td>34.0</td>\n",
              "    </tr>\n",
              "    <tr>\n",
              "      <th>1956-12-01</th>\n",
              "      <td>306.0</td>\n",
              "      <td>35.0</td>\n",
              "      <td>70.0</td>\n",
              "      <td>28.0</td>\n",
              "    </tr>\n",
              "    <tr>\n",
              "      <th>1957-01-01</th>\n",
              "      <td>315.0</td>\n",
              "      <td>9.0</td>\n",
              "      <td>-26.0</td>\n",
              "      <td>31.0</td>\n",
              "    </tr>\n",
              "    <tr>\n",
              "      <th>1957-02-01</th>\n",
              "      <td>301.0</td>\n",
              "      <td>-14.0</td>\n",
              "      <td>-23.0</td>\n",
              "      <td>24.0</td>\n",
              "    </tr>\n",
              "    <tr>\n",
              "      <th>1957-03-01</th>\n",
              "      <td>356.0</td>\n",
              "      <td>55.0</td>\n",
              "      <td>69.0</td>\n",
              "      <td>39.0</td>\n",
              "    </tr>\n",
              "    <tr>\n",
              "      <th>1957-04-01</th>\n",
              "      <td>348.0</td>\n",
              "      <td>-8.0</td>\n",
              "      <td>-63.0</td>\n",
              "      <td>35.0</td>\n",
              "    </tr>\n",
              "    <tr>\n",
              "      <th>1957-05-01</th>\n",
              "      <td>355.0</td>\n",
              "      <td>7.0</td>\n",
              "      <td>15.0</td>\n",
              "      <td>37.0</td>\n",
              "    </tr>\n",
              "    <tr>\n",
              "      <th>1957-06-01</th>\n",
              "      <td>422.0</td>\n",
              "      <td>67.0</td>\n",
              "      <td>60.0</td>\n",
              "      <td>48.0</td>\n",
              "    </tr>\n",
              "    <tr>\n",
              "      <th>1957-07-01</th>\n",
              "      <td>465.0</td>\n",
              "      <td>43.0</td>\n",
              "      <td>-24.0</td>\n",
              "      <td>52.0</td>\n",
              "    </tr>\n",
              "    <tr>\n",
              "      <th>1957-08-01</th>\n",
              "      <td>467.0</td>\n",
              "      <td>2.0</td>\n",
              "      <td>-41.0</td>\n",
              "      <td>62.0</td>\n",
              "    </tr>\n",
              "    <tr>\n",
              "      <th>1957-09-01</th>\n",
              "      <td>404.0</td>\n",
              "      <td>-63.0</td>\n",
              "      <td>-65.0</td>\n",
              "      <td>49.0</td>\n",
              "    </tr>\n",
              "    <tr>\n",
              "      <th>1957-10-01</th>\n",
              "      <td>347.0</td>\n",
              "      <td>-57.0</td>\n",
              "      <td>6.0</td>\n",
              "      <td>41.0</td>\n",
              "    </tr>\n",
              "    <tr>\n",
              "      <th>1957-11-01</th>\n",
              "      <td>305.0</td>\n",
              "      <td>-42.0</td>\n",
              "      <td>15.0</td>\n",
              "      <td>34.0</td>\n",
              "    </tr>\n",
              "    <tr>\n",
              "      <th>1957-12-01</th>\n",
              "      <td>336.0</td>\n",
              "      <td>31.0</td>\n",
              "      <td>73.0</td>\n",
              "      <td>30.0</td>\n",
              "    </tr>\n",
              "    <tr>\n",
              "      <th>1958-01-01</th>\n",
              "      <td>340.0</td>\n",
              "      <td>4.0</td>\n",
              "      <td>-27.0</td>\n",
              "      <td>25.0</td>\n",
              "    </tr>\n",
              "    <tr>\n",
              "      <th>1958-02-01</th>\n",
              "      <td>318.0</td>\n",
              "      <td>-22.0</td>\n",
              "      <td>-26.0</td>\n",
              "      <td>17.0</td>\n",
              "    </tr>\n",
              "    <tr>\n",
              "      <th>1958-03-01</th>\n",
              "      <td>362.0</td>\n",
              "      <td>44.0</td>\n",
              "      <td>66.0</td>\n",
              "      <td>6.0</td>\n",
              "    </tr>\n",
              "    <tr>\n",
              "      <th>1958-04-01</th>\n",
              "      <td>348.0</td>\n",
              "      <td>-14.0</td>\n",
              "      <td>-58.0</td>\n",
              "      <td>0.0</td>\n",
              "    </tr>\n",
              "    <tr>\n",
              "      <th>1958-05-01</th>\n",
              "      <td>363.0</td>\n",
              "      <td>15.0</td>\n",
              "      <td>29.0</td>\n",
              "      <td>8.0</td>\n",
              "    </tr>\n",
              "    <tr>\n",
              "      <th>1958-06-01</th>\n",
              "      <td>435.0</td>\n",
              "      <td>72.0</td>\n",
              "      <td>57.0</td>\n",
              "      <td>13.0</td>\n",
              "    </tr>\n",
              "    <tr>\n",
              "      <th>1958-07-01</th>\n",
              "      <td>491.0</td>\n",
              "      <td>56.0</td>\n",
              "      <td>-16.0</td>\n",
              "      <td>26.0</td>\n",
              "    </tr>\n",
              "    <tr>\n",
              "      <th>1958-08-01</th>\n",
              "      <td>505.0</td>\n",
              "      <td>14.0</td>\n",
              "      <td>-42.0</td>\n",
              "      <td>38.0</td>\n",
              "    </tr>\n",
              "    <tr>\n",
              "      <th>1958-09-01</th>\n",
              "      <td>404.0</td>\n",
              "      <td>-101.0</td>\n",
              "      <td>-115.0</td>\n",
              "      <td>0.0</td>\n",
              "    </tr>\n",
              "    <tr>\n",
              "      <th>1958-10-01</th>\n",
              "      <td>359.0</td>\n",
              "      <td>-45.0</td>\n",
              "      <td>56.0</td>\n",
              "      <td>12.0</td>\n",
              "    </tr>\n",
              "    <tr>\n",
              "      <th>1958-11-01</th>\n",
              "      <td>310.0</td>\n",
              "      <td>-49.0</td>\n",
              "      <td>-4.0</td>\n",
              "      <td>5.0</td>\n",
              "    </tr>\n",
              "    <tr>\n",
              "      <th>1958-12-01</th>\n",
              "      <td>337.0</td>\n",
              "      <td>27.0</td>\n",
              "      <td>76.0</td>\n",
              "      <td>1.0</td>\n",
              "    </tr>\n",
              "    <tr>\n",
              "      <th>1959-01-01</th>\n",
              "      <td>360.0</td>\n",
              "      <td>23.0</td>\n",
              "      <td>-4.0</td>\n",
              "      <td>20.0</td>\n",
              "    </tr>\n",
              "    <tr>\n",
              "      <th>1959-02-01</th>\n",
              "      <td>342.0</td>\n",
              "      <td>-18.0</td>\n",
              "      <td>-41.0</td>\n",
              "      <td>24.0</td>\n",
              "    </tr>\n",
              "    <tr>\n",
              "      <th>1959-03-01</th>\n",
              "      <td>406.0</td>\n",
              "      <td>64.0</td>\n",
              "      <td>82.0</td>\n",
              "      <td>44.0</td>\n",
              "    </tr>\n",
              "    <tr>\n",
              "      <th>1959-04-01</th>\n",
              "      <td>396.0</td>\n",
              "      <td>-10.0</td>\n",
              "      <td>-74.0</td>\n",
              "      <td>48.0</td>\n",
              "    </tr>\n",
              "    <tr>\n",
              "      <th>1959-05-01</th>\n",
              "      <td>420.0</td>\n",
              "      <td>24.0</td>\n",
              "      <td>34.0</td>\n",
              "      <td>57.0</td>\n",
              "    </tr>\n",
              "    <tr>\n",
              "      <th>1959-06-01</th>\n",
              "      <td>472.0</td>\n",
              "      <td>52.0</td>\n",
              "      <td>28.0</td>\n",
              "      <td>37.0</td>\n",
              "    </tr>\n",
              "    <tr>\n",
              "      <th>1959-07-01</th>\n",
              "      <td>548.0</td>\n",
              "      <td>76.0</td>\n",
              "      <td>24.0</td>\n",
              "      <td>57.0</td>\n",
              "    </tr>\n",
              "    <tr>\n",
              "      <th>1959-08-01</th>\n",
              "      <td>559.0</td>\n",
              "      <td>11.0</td>\n",
              "      <td>-65.0</td>\n",
              "      <td>54.0</td>\n",
              "    </tr>\n",
              "    <tr>\n",
              "      <th>1959-09-01</th>\n",
              "      <td>463.0</td>\n",
              "      <td>-96.0</td>\n",
              "      <td>-107.0</td>\n",
              "      <td>59.0</td>\n",
              "    </tr>\n",
              "    <tr>\n",
              "      <th>1959-10-01</th>\n",
              "      <td>407.0</td>\n",
              "      <td>-56.0</td>\n",
              "      <td>40.0</td>\n",
              "      <td>48.0</td>\n",
              "    </tr>\n",
              "    <tr>\n",
              "      <th>1959-11-01</th>\n",
              "      <td>362.0</td>\n",
              "      <td>-45.0</td>\n",
              "      <td>11.0</td>\n",
              "      <td>52.0</td>\n",
              "    </tr>\n",
              "    <tr>\n",
              "      <th>1959-12-01</th>\n",
              "      <td>405.0</td>\n",
              "      <td>43.0</td>\n",
              "      <td>88.0</td>\n",
              "      <td>68.0</td>\n",
              "    </tr>\n",
              "    <tr>\n",
              "      <th>1960-01-01</th>\n",
              "      <td>417.0</td>\n",
              "      <td>12.0</td>\n",
              "      <td>-31.0</td>\n",
              "      <td>57.0</td>\n",
              "    </tr>\n",
              "    <tr>\n",
              "      <th>1960-02-01</th>\n",
              "      <td>391.0</td>\n",
              "      <td>-26.0</td>\n",
              "      <td>-38.0</td>\n",
              "      <td>49.0</td>\n",
              "    </tr>\n",
              "    <tr>\n",
              "      <th>1960-03-01</th>\n",
              "      <td>419.0</td>\n",
              "      <td>28.0</td>\n",
              "      <td>54.0</td>\n",
              "      <td>13.0</td>\n",
              "    </tr>\n",
              "    <tr>\n",
              "      <th>1960-04-01</th>\n",
              "      <td>461.0</td>\n",
              "      <td>42.0</td>\n",
              "      <td>14.0</td>\n",
              "      <td>65.0</td>\n",
              "    </tr>\n",
              "    <tr>\n",
              "      <th>1960-05-01</th>\n",
              "      <td>472.0</td>\n",
              "      <td>11.0</td>\n",
              "      <td>-31.0</td>\n",
              "      <td>52.0</td>\n",
              "    </tr>\n",
              "    <tr>\n",
              "      <th>1960-06-01</th>\n",
              "      <td>535.0</td>\n",
              "      <td>63.0</td>\n",
              "      <td>52.0</td>\n",
              "      <td>63.0</td>\n",
              "    </tr>\n",
              "    <tr>\n",
              "      <th>1960-07-01</th>\n",
              "      <td>622.0</td>\n",
              "      <td>87.0</td>\n",
              "      <td>24.0</td>\n",
              "      <td>74.0</td>\n",
              "    </tr>\n",
              "    <tr>\n",
              "      <th>1960-08-01</th>\n",
              "      <td>606.0</td>\n",
              "      <td>-16.0</td>\n",
              "      <td>-103.0</td>\n",
              "      <td>47.0</td>\n",
              "    </tr>\n",
              "    <tr>\n",
              "      <th>1960-09-01</th>\n",
              "      <td>508.0</td>\n",
              "      <td>-98.0</td>\n",
              "      <td>-82.0</td>\n",
              "      <td>45.0</td>\n",
              "    </tr>\n",
              "    <tr>\n",
              "      <th>1960-10-01</th>\n",
              "      <td>461.0</td>\n",
              "      <td>-47.0</td>\n",
              "      <td>51.0</td>\n",
              "      <td>54.0</td>\n",
              "    </tr>\n",
              "    <tr>\n",
              "      <th>1960-11-01</th>\n",
              "      <td>390.0</td>\n",
              "      <td>-71.0</td>\n",
              "      <td>-24.0</td>\n",
              "      <td>28.0</td>\n",
              "    </tr>\n",
              "    <tr>\n",
              "      <th>1960-12-01</th>\n",
              "      <td>432.0</td>\n",
              "      <td>42.0</td>\n",
              "      <td>113.0</td>\n",
              "      <td>27.0</td>\n",
              "    </tr>\n",
              "  </tbody>\n",
              "</table>\n",
              "</div>\n",
              "      <button class=\"colab-df-convert\" onclick=\"convertToInteractive('df-b003bd55-51e2-4b5c-ba20-4327bdf3ab3d')\"\n",
              "              title=\"Convert this dataframe to an interactive table.\"\n",
              "              style=\"display:none;\">\n",
              "        \n",
              "  <svg xmlns=\"http://www.w3.org/2000/svg\" height=\"24px\"viewBox=\"0 0 24 24\"\n",
              "       width=\"24px\">\n",
              "    <path d=\"M0 0h24v24H0V0z\" fill=\"none\"/>\n",
              "    <path d=\"M18.56 5.44l.94 2.06.94-2.06 2.06-.94-2.06-.94-.94-2.06-.94 2.06-2.06.94zm-11 1L8.5 8.5l.94-2.06 2.06-.94-2.06-.94L8.5 2.5l-.94 2.06-2.06.94zm10 10l.94 2.06.94-2.06 2.06-.94-2.06-.94-.94-2.06-.94 2.06-2.06.94z\"/><path d=\"M17.41 7.96l-1.37-1.37c-.4-.4-.92-.59-1.43-.59-.52 0-1.04.2-1.43.59L10.3 9.45l-7.72 7.72c-.78.78-.78 2.05 0 2.83L4 21.41c.39.39.9.59 1.41.59.51 0 1.02-.2 1.41-.59l7.78-7.78 2.81-2.81c.8-.78.8-2.07 0-2.86zM5.41 20L4 18.59l7.72-7.72 1.47 1.35L5.41 20z\"/>\n",
              "  </svg>\n",
              "      </button>\n",
              "      \n",
              "  <style>\n",
              "    .colab-df-container {\n",
              "      display:flex;\n",
              "      flex-wrap:wrap;\n",
              "      gap: 12px;\n",
              "    }\n",
              "\n",
              "    .colab-df-convert {\n",
              "      background-color: #E8F0FE;\n",
              "      border: none;\n",
              "      border-radius: 50%;\n",
              "      cursor: pointer;\n",
              "      display: none;\n",
              "      fill: #1967D2;\n",
              "      height: 32px;\n",
              "      padding: 0 0 0 0;\n",
              "      width: 32px;\n",
              "    }\n",
              "\n",
              "    .colab-df-convert:hover {\n",
              "      background-color: #E2EBFA;\n",
              "      box-shadow: 0px 1px 2px rgba(60, 64, 67, 0.3), 0px 1px 3px 1px rgba(60, 64, 67, 0.15);\n",
              "      fill: #174EA6;\n",
              "    }\n",
              "\n",
              "    [theme=dark] .colab-df-convert {\n",
              "      background-color: #3B4455;\n",
              "      fill: #D2E3FC;\n",
              "    }\n",
              "\n",
              "    [theme=dark] .colab-df-convert:hover {\n",
              "      background-color: #434B5C;\n",
              "      box-shadow: 0px 1px 3px 1px rgba(0, 0, 0, 0.15);\n",
              "      filter: drop-shadow(0px 1px 2px rgba(0, 0, 0, 0.3));\n",
              "      fill: #FFFFFF;\n",
              "    }\n",
              "  </style>\n",
              "\n",
              "      <script>\n",
              "        const buttonEl =\n",
              "          document.querySelector('#df-b003bd55-51e2-4b5c-ba20-4327bdf3ab3d button.colab-df-convert');\n",
              "        buttonEl.style.display =\n",
              "          google.colab.kernel.accessAllowed ? 'block' : 'none';\n",
              "\n",
              "        async function convertToInteractive(key) {\n",
              "          const element = document.querySelector('#df-b003bd55-51e2-4b5c-ba20-4327bdf3ab3d');\n",
              "          const dataTable =\n",
              "            await google.colab.kernel.invokeFunction('convertToInteractive',\n",
              "                                                     [key], {});\n",
              "          if (!dataTable) return;\n",
              "\n",
              "          const docLinkHtml = 'Like what you see? Visit the ' +\n",
              "            '<a target=\"_blank\" href=https://colab.research.google.com/notebooks/data_table.ipynb>data table notebook</a>'\n",
              "            + ' to learn more about interactive tables.';\n",
              "          element.innerHTML = '';\n",
              "          dataTable['output_type'] = 'display_data';\n",
              "          await google.colab.output.renderOutput(dataTable, element);\n",
              "          const docLink = document.createElement('div');\n",
              "          docLink.innerHTML = docLinkHtml;\n",
              "          element.appendChild(docLink);\n",
              "        }\n",
              "      </script>\n",
              "    </div>\n",
              "  </div>\n",
              "  "
            ]
          },
          "metadata": {},
          "execution_count": 47
        }
      ]
    },
    {
      "cell_type": "code",
      "source": [
        "train_data"
      ],
      "metadata": {
        "colab": {
          "base_uri": "https://localhost:8080/",
          "height": 690
        },
        "id": "2IQeYJsCkjJE",
        "outputId": "c0540924-c41b-484c-dbdc-e92c04349ab8"
      },
      "execution_count": null,
      "outputs": [
        {
          "output_type": "execute_result",
          "data": {
            "text/plain": [
              "            Thousands of Passengers  first difference  second difference  \\\n",
              "Month                                                                      \n",
              "1949-01-01                    112.0               NaN                NaN   \n",
              "1949-02-01                    118.0               6.0                NaN   \n",
              "1949-03-01                    132.0              14.0                8.0   \n",
              "1949-04-01                    129.0              -3.0              -17.0   \n",
              "1949-05-01                    121.0              -8.0               -5.0   \n",
              "...                             ...               ...                ...   \n",
              "1960-08-01                    606.0             -16.0             -103.0   \n",
              "1960-09-01                    508.0             -98.0              -82.0   \n",
              "1960-10-01                    461.0             -47.0               51.0   \n",
              "1960-11-01                    390.0             -71.0              -24.0   \n",
              "1960-12-01                    432.0              42.0              113.0   \n",
              "\n",
              "            twelve difference  \n",
              "Month                          \n",
              "1949-01-01                NaN  \n",
              "1949-02-01                NaN  \n",
              "1949-03-01                NaN  \n",
              "1949-04-01                NaN  \n",
              "1949-05-01                NaN  \n",
              "...                       ...  \n",
              "1960-08-01               47.0  \n",
              "1960-09-01               45.0  \n",
              "1960-10-01               54.0  \n",
              "1960-11-01               28.0  \n",
              "1960-12-01               27.0  \n",
              "\n",
              "[144 rows x 4 columns]"
            ],
            "text/html": [
              "\n",
              "  <div id=\"df-56417cc3-6485-450c-a44c-d5042c450eb6\">\n",
              "    <div class=\"colab-df-container\">\n",
              "      <div>\n",
              "<style scoped>\n",
              "    .dataframe tbody tr th:only-of-type {\n",
              "        vertical-align: middle;\n",
              "    }\n",
              "\n",
              "    .dataframe tbody tr th {\n",
              "        vertical-align: top;\n",
              "    }\n",
              "\n",
              "    .dataframe thead th {\n",
              "        text-align: right;\n",
              "    }\n",
              "</style>\n",
              "<table border=\"1\" class=\"dataframe\">\n",
              "  <thead>\n",
              "    <tr style=\"text-align: right;\">\n",
              "      <th></th>\n",
              "      <th>Thousands of Passengers</th>\n",
              "      <th>first difference</th>\n",
              "      <th>second difference</th>\n",
              "      <th>twelve difference</th>\n",
              "    </tr>\n",
              "    <tr>\n",
              "      <th>Month</th>\n",
              "      <th></th>\n",
              "      <th></th>\n",
              "      <th></th>\n",
              "      <th></th>\n",
              "    </tr>\n",
              "  </thead>\n",
              "  <tbody>\n",
              "    <tr>\n",
              "      <th>1949-01-01</th>\n",
              "      <td>112.0</td>\n",
              "      <td>NaN</td>\n",
              "      <td>NaN</td>\n",
              "      <td>NaN</td>\n",
              "    </tr>\n",
              "    <tr>\n",
              "      <th>1949-02-01</th>\n",
              "      <td>118.0</td>\n",
              "      <td>6.0</td>\n",
              "      <td>NaN</td>\n",
              "      <td>NaN</td>\n",
              "    </tr>\n",
              "    <tr>\n",
              "      <th>1949-03-01</th>\n",
              "      <td>132.0</td>\n",
              "      <td>14.0</td>\n",
              "      <td>8.0</td>\n",
              "      <td>NaN</td>\n",
              "    </tr>\n",
              "    <tr>\n",
              "      <th>1949-04-01</th>\n",
              "      <td>129.0</td>\n",
              "      <td>-3.0</td>\n",
              "      <td>-17.0</td>\n",
              "      <td>NaN</td>\n",
              "    </tr>\n",
              "    <tr>\n",
              "      <th>1949-05-01</th>\n",
              "      <td>121.0</td>\n",
              "      <td>-8.0</td>\n",
              "      <td>-5.0</td>\n",
              "      <td>NaN</td>\n",
              "    </tr>\n",
              "    <tr>\n",
              "      <th>...</th>\n",
              "      <td>...</td>\n",
              "      <td>...</td>\n",
              "      <td>...</td>\n",
              "      <td>...</td>\n",
              "    </tr>\n",
              "    <tr>\n",
              "      <th>1960-08-01</th>\n",
              "      <td>606.0</td>\n",
              "      <td>-16.0</td>\n",
              "      <td>-103.0</td>\n",
              "      <td>47.0</td>\n",
              "    </tr>\n",
              "    <tr>\n",
              "      <th>1960-09-01</th>\n",
              "      <td>508.0</td>\n",
              "      <td>-98.0</td>\n",
              "      <td>-82.0</td>\n",
              "      <td>45.0</td>\n",
              "    </tr>\n",
              "    <tr>\n",
              "      <th>1960-10-01</th>\n",
              "      <td>461.0</td>\n",
              "      <td>-47.0</td>\n",
              "      <td>51.0</td>\n",
              "      <td>54.0</td>\n",
              "    </tr>\n",
              "    <tr>\n",
              "      <th>1960-11-01</th>\n",
              "      <td>390.0</td>\n",
              "      <td>-71.0</td>\n",
              "      <td>-24.0</td>\n",
              "      <td>28.0</td>\n",
              "    </tr>\n",
              "    <tr>\n",
              "      <th>1960-12-01</th>\n",
              "      <td>432.0</td>\n",
              "      <td>42.0</td>\n",
              "      <td>113.0</td>\n",
              "      <td>27.0</td>\n",
              "    </tr>\n",
              "  </tbody>\n",
              "</table>\n",
              "<p>144 rows × 4 columns</p>\n",
              "</div>\n",
              "      <button class=\"colab-df-convert\" onclick=\"convertToInteractive('df-56417cc3-6485-450c-a44c-d5042c450eb6')\"\n",
              "              title=\"Convert this dataframe to an interactive table.\"\n",
              "              style=\"display:none;\">\n",
              "        \n",
              "  <svg xmlns=\"http://www.w3.org/2000/svg\" height=\"24px\"viewBox=\"0 0 24 24\"\n",
              "       width=\"24px\">\n",
              "    <path d=\"M0 0h24v24H0V0z\" fill=\"none\"/>\n",
              "    <path d=\"M18.56 5.44l.94 2.06.94-2.06 2.06-.94-2.06-.94-.94-2.06-.94 2.06-2.06.94zm-11 1L8.5 8.5l.94-2.06 2.06-.94-2.06-.94L8.5 2.5l-.94 2.06-2.06.94zm10 10l.94 2.06.94-2.06 2.06-.94-2.06-.94-.94-2.06-.94 2.06-2.06.94z\"/><path d=\"M17.41 7.96l-1.37-1.37c-.4-.4-.92-.59-1.43-.59-.52 0-1.04.2-1.43.59L10.3 9.45l-7.72 7.72c-.78.78-.78 2.05 0 2.83L4 21.41c.39.39.9.59 1.41.59.51 0 1.02-.2 1.41-.59l7.78-7.78 2.81-2.81c.8-.78.8-2.07 0-2.86zM5.41 20L4 18.59l7.72-7.72 1.47 1.35L5.41 20z\"/>\n",
              "  </svg>\n",
              "      </button>\n",
              "      \n",
              "  <style>\n",
              "    .colab-df-container {\n",
              "      display:flex;\n",
              "      flex-wrap:wrap;\n",
              "      gap: 12px;\n",
              "    }\n",
              "\n",
              "    .colab-df-convert {\n",
              "      background-color: #E8F0FE;\n",
              "      border: none;\n",
              "      border-radius: 50%;\n",
              "      cursor: pointer;\n",
              "      display: none;\n",
              "      fill: #1967D2;\n",
              "      height: 32px;\n",
              "      padding: 0 0 0 0;\n",
              "      width: 32px;\n",
              "    }\n",
              "\n",
              "    .colab-df-convert:hover {\n",
              "      background-color: #E2EBFA;\n",
              "      box-shadow: 0px 1px 2px rgba(60, 64, 67, 0.3), 0px 1px 3px 1px rgba(60, 64, 67, 0.15);\n",
              "      fill: #174EA6;\n",
              "    }\n",
              "\n",
              "    [theme=dark] .colab-df-convert {\n",
              "      background-color: #3B4455;\n",
              "      fill: #D2E3FC;\n",
              "    }\n",
              "\n",
              "    [theme=dark] .colab-df-convert:hover {\n",
              "      background-color: #434B5C;\n",
              "      box-shadow: 0px 1px 3px 1px rgba(0, 0, 0, 0.15);\n",
              "      filter: drop-shadow(0px 1px 2px rgba(0, 0, 0, 0.3));\n",
              "      fill: #FFFFFF;\n",
              "    }\n",
              "  </style>\n",
              "\n",
              "      <script>\n",
              "        const buttonEl =\n",
              "          document.querySelector('#df-56417cc3-6485-450c-a44c-d5042c450eb6 button.colab-df-convert');\n",
              "        buttonEl.style.display =\n",
              "          google.colab.kernel.accessAllowed ? 'block' : 'none';\n",
              "\n",
              "        async function convertToInteractive(key) {\n",
              "          const element = document.querySelector('#df-56417cc3-6485-450c-a44c-d5042c450eb6');\n",
              "          const dataTable =\n",
              "            await google.colab.kernel.invokeFunction('convertToInteractive',\n",
              "                                                     [key], {});\n",
              "          if (!dataTable) return;\n",
              "\n",
              "          const docLinkHtml = 'Like what you see? Visit the ' +\n",
              "            '<a target=\"_blank\" href=https://colab.research.google.com/notebooks/data_table.ipynb>data table notebook</a>'\n",
              "            + ' to learn more about interactive tables.';\n",
              "          element.innerHTML = '';\n",
              "          dataTable['output_type'] = 'display_data';\n",
              "          await google.colab.output.renderOutput(dataTable, element);\n",
              "          const docLink = document.createElement('div');\n",
              "          docLink.innerHTML = docLinkHtml;\n",
              "          element.appendChild(docLink);\n",
              "        }\n",
              "      </script>\n",
              "    </div>\n",
              "  </div>\n",
              "  "
            ]
          },
          "metadata": {},
          "execution_count": 33
        }
      ]
    },
    {
      "cell_type": "code",
      "source": [
        "test_end\n"
      ],
      "metadata": {
        "colab": {
          "base_uri": "https://localhost:8080/"
        },
        "id": "Ri9hVsccDTC4",
        "outputId": "882c7c13-3e17-440d-e265-311052901cc2"
      },
      "execution_count": null,
      "outputs": [
        {
          "output_type": "execute_result",
          "data": {
            "text/plain": [
              "datetime.datetime(1960, 12, 1, 0, 0)"
            ]
          },
          "metadata": {},
          "execution_count": 34
        }
      ]
    },
    {
      "cell_type": "code",
      "source": [
        "from statsmodels.tsa.arima.model import ARIMA"
      ],
      "metadata": {
        "id": "lCHl4xPkIv4E"
      },
      "execution_count": null,
      "outputs": []
    },
    {
      "cell_type": "code",
      "source": [
        "model_arima= ARIMA(train_data['Thousands of Passengers'],order=(10,2,12))"
      ],
      "metadata": {
        "colab": {
          "base_uri": "https://localhost:8080/"
        },
        "id": "GcE1ByOaIed1",
        "outputId": "f0f3fd82-da56-4e41-e2a9-9f81c13762c1"
      },
      "execution_count": null,
      "outputs": [
        {
          "output_type": "stream",
          "name": "stderr",
          "text": [
            "/usr/local/lib/python3.10/dist-packages/statsmodels/tsa/base/tsa_model.py:471: ValueWarning: No frequency information was provided, so inferred frequency MS will be used.\n",
            "  self._init_dates(dates, freq)\n",
            "/usr/local/lib/python3.10/dist-packages/statsmodels/tsa/base/tsa_model.py:471: ValueWarning: No frequency information was provided, so inferred frequency MS will be used.\n",
            "  self._init_dates(dates, freq)\n",
            "/usr/local/lib/python3.10/dist-packages/statsmodels/tsa/base/tsa_model.py:471: ValueWarning: No frequency information was provided, so inferred frequency MS will be used.\n",
            "  self._init_dates(dates, freq)\n"
          ]
        }
      ]
    },
    {
      "cell_type": "code",
      "source": [
        "model_arima_fit=model_arima.fit()"
      ],
      "metadata": {
        "colab": {
          "base_uri": "https://localhost:8080/"
        },
        "id": "7s-YfGnxJlzG",
        "outputId": "42ec2c87-cd73-411e-9e27-f3d3cb0a80ad"
      },
      "execution_count": null,
      "outputs": [
        {
          "output_type": "stream",
          "name": "stderr",
          "text": [
            "/usr/local/lib/python3.10/dist-packages/statsmodels/tsa/statespace/sarimax.py:978: UserWarning: Non-invertible starting MA parameters found. Using zeros as starting parameters.\n",
            "  warn('Non-invertible starting MA parameters found.'\n",
            "/usr/local/lib/python3.10/dist-packages/statsmodels/base/model.py:604: ConvergenceWarning: Maximum Likelihood optimization failed to converge. Check mle_retvals\n",
            "  warnings.warn(\"Maximum Likelihood optimization failed to \"\n"
          ]
        }
      ]
    },
    {
      "cell_type": "code",
      "source": [
        "model_arima_fit.summary()"
      ],
      "metadata": {
        "colab": {
          "base_uri": "https://localhost:8080/",
          "height": 842
        },
        "id": "KeWf1E6FJ7Nv",
        "outputId": "5641ddfd-85b1-4cc5-80df-73503ce6f964"
      },
      "execution_count": null,
      "outputs": [
        {
          "output_type": "execute_result",
          "data": {
            "text/plain": [
              "<class 'statsmodels.iolib.summary.Summary'>\n",
              "\"\"\"\n",
              "                                  SARIMAX Results                                  \n",
              "===================================================================================\n",
              "Dep. Variable:     Thousands of Passengers   No. Observations:                   84\n",
              "Model:                    ARIMA(10, 2, 12)   Log Likelihood                -307.735\n",
              "Date:                     Sat, 29 Apr 2023   AIC                            661.469\n",
              "Time:                             17:55:45   BIC                            716.824\n",
              "Sample:                         01-01-1949   HQIC                           683.693\n",
              "                              - 12-01-1955                                         \n",
              "Covariance Type:                       opg                                         \n",
              "==============================================================================\n",
              "                 coef    std err          z      P>|z|      [0.025      0.975]\n",
              "------------------------------------------------------------------------------\n",
              "ar.L1          0.0468      0.115      0.408      0.683      -0.178       0.271\n",
              "ar.L2         -1.0429      0.084    -12.479      0.000      -1.207      -0.879\n",
              "ar.L3          0.0886      0.139      0.638      0.523      -0.183       0.361\n",
              "ar.L4         -1.0259      0.131     -7.825      0.000      -1.283      -0.769\n",
              "ar.L5          0.0658      0.155      0.423      0.672      -0.239       0.370\n",
              "ar.L6         -0.9861      0.143     -6.882      0.000      -1.267      -0.705\n",
              "ar.L7          0.0175      0.142      0.123      0.902      -0.261       0.296\n",
              "ar.L8         -0.9822      0.122     -8.030      0.000      -1.222      -0.742\n",
              "ar.L9         -0.0069      0.095     -0.073      0.942      -0.193       0.179\n",
              "ar.L10        -0.9389      0.085    -11.096      0.000      -1.105      -0.773\n",
              "ma.L1         -1.2855      0.254     -5.057      0.000      -1.784      -0.787\n",
              "ma.L2          1.2393      0.359      3.455      0.001       0.536       1.942\n",
              "ma.L3         -1.4415      0.437     -3.302      0.001      -2.297      -0.586\n",
              "ma.L4          1.3761      0.507      2.713      0.007       0.382       2.370\n",
              "ma.L5         -1.2166      0.575     -2.116      0.034      -2.344      -0.090\n",
              "ma.L6          1.0831      0.660      1.640      0.101      -0.211       2.378\n",
              "ma.L7         -1.0701      0.715     -1.497      0.134      -2.471       0.331\n",
              "ma.L8          0.8861      0.819      1.082      0.279      -0.719       2.491\n",
              "ma.L9         -0.7852      0.737     -1.066      0.287      -2.229       0.659\n",
              "ma.L10         0.5230      0.601      0.870      0.384      -0.656       1.702\n",
              "ma.L11        -0.4130      0.455     -0.908      0.364      -1.305       0.479\n",
              "ma.L12         0.1336      0.273      0.489      0.625      -0.402       0.669\n",
              "sigma2        77.2663     16.217      4.764      0.000      45.481     109.051\n",
              "===================================================================================\n",
              "Ljung-Box (L1) (Q):                   0.00   Jarque-Bera (JB):                 4.74\n",
              "Prob(Q):                              0.99   Prob(JB):                         0.09\n",
              "Heteroskedasticity (H):               2.12   Skew:                             0.59\n",
              "Prob(H) (two-sided):                  0.06   Kurtosis:                         2.89\n",
              "===================================================================================\n",
              "\n",
              "Warnings:\n",
              "[1] Covariance matrix calculated using the outer product of gradients (complex-step).\n",
              "\"\"\""
            ],
            "text/html": [
              "<table class=\"simpletable\">\n",
              "<caption>SARIMAX Results</caption>\n",
              "<tr>\n",
              "  <th>Dep. Variable:</th>   <td>Thousands of Passengers</td> <th>  No. Observations:  </th>    <td>84</td>   \n",
              "</tr>\n",
              "<tr>\n",
              "  <th>Model:</th>              <td>ARIMA(10, 2, 12)</td>     <th>  Log Likelihood     </th> <td>-307.735</td>\n",
              "</tr>\n",
              "<tr>\n",
              "  <th>Date:</th>               <td>Sat, 29 Apr 2023</td>     <th>  AIC                </th>  <td>661.469</td>\n",
              "</tr>\n",
              "<tr>\n",
              "  <th>Time:</th>                   <td>17:55:45</td>         <th>  BIC                </th>  <td>716.824</td>\n",
              "</tr>\n",
              "<tr>\n",
              "  <th>Sample:</th>                <td>01-01-1949</td>        <th>  HQIC               </th>  <td>683.693</td>\n",
              "</tr>\n",
              "<tr>\n",
              "  <th></th>                      <td>- 12-01-1955</td>       <th>                     </th>     <td> </td>   \n",
              "</tr>\n",
              "<tr>\n",
              "  <th>Covariance Type:</th>           <td>opg</td>           <th>                     </th>     <td> </td>   \n",
              "</tr>\n",
              "</table>\n",
              "<table class=\"simpletable\">\n",
              "<tr>\n",
              "     <td></td>       <th>coef</th>     <th>std err</th>      <th>z</th>      <th>P>|z|</th>  <th>[0.025</th>    <th>0.975]</th>  \n",
              "</tr>\n",
              "<tr>\n",
              "  <th>ar.L1</th>  <td>    0.0468</td> <td>    0.115</td> <td>    0.408</td> <td> 0.683</td> <td>   -0.178</td> <td>    0.271</td>\n",
              "</tr>\n",
              "<tr>\n",
              "  <th>ar.L2</th>  <td>   -1.0429</td> <td>    0.084</td> <td>  -12.479</td> <td> 0.000</td> <td>   -1.207</td> <td>   -0.879</td>\n",
              "</tr>\n",
              "<tr>\n",
              "  <th>ar.L3</th>  <td>    0.0886</td> <td>    0.139</td> <td>    0.638</td> <td> 0.523</td> <td>   -0.183</td> <td>    0.361</td>\n",
              "</tr>\n",
              "<tr>\n",
              "  <th>ar.L4</th>  <td>   -1.0259</td> <td>    0.131</td> <td>   -7.825</td> <td> 0.000</td> <td>   -1.283</td> <td>   -0.769</td>\n",
              "</tr>\n",
              "<tr>\n",
              "  <th>ar.L5</th>  <td>    0.0658</td> <td>    0.155</td> <td>    0.423</td> <td> 0.672</td> <td>   -0.239</td> <td>    0.370</td>\n",
              "</tr>\n",
              "<tr>\n",
              "  <th>ar.L6</th>  <td>   -0.9861</td> <td>    0.143</td> <td>   -6.882</td> <td> 0.000</td> <td>   -1.267</td> <td>   -0.705</td>\n",
              "</tr>\n",
              "<tr>\n",
              "  <th>ar.L7</th>  <td>    0.0175</td> <td>    0.142</td> <td>    0.123</td> <td> 0.902</td> <td>   -0.261</td> <td>    0.296</td>\n",
              "</tr>\n",
              "<tr>\n",
              "  <th>ar.L8</th>  <td>   -0.9822</td> <td>    0.122</td> <td>   -8.030</td> <td> 0.000</td> <td>   -1.222</td> <td>   -0.742</td>\n",
              "</tr>\n",
              "<tr>\n",
              "  <th>ar.L9</th>  <td>   -0.0069</td> <td>    0.095</td> <td>   -0.073</td> <td> 0.942</td> <td>   -0.193</td> <td>    0.179</td>\n",
              "</tr>\n",
              "<tr>\n",
              "  <th>ar.L10</th> <td>   -0.9389</td> <td>    0.085</td> <td>  -11.096</td> <td> 0.000</td> <td>   -1.105</td> <td>   -0.773</td>\n",
              "</tr>\n",
              "<tr>\n",
              "  <th>ma.L1</th>  <td>   -1.2855</td> <td>    0.254</td> <td>   -5.057</td> <td> 0.000</td> <td>   -1.784</td> <td>   -0.787</td>\n",
              "</tr>\n",
              "<tr>\n",
              "  <th>ma.L2</th>  <td>    1.2393</td> <td>    0.359</td> <td>    3.455</td> <td> 0.001</td> <td>    0.536</td> <td>    1.942</td>\n",
              "</tr>\n",
              "<tr>\n",
              "  <th>ma.L3</th>  <td>   -1.4415</td> <td>    0.437</td> <td>   -3.302</td> <td> 0.001</td> <td>   -2.297</td> <td>   -0.586</td>\n",
              "</tr>\n",
              "<tr>\n",
              "  <th>ma.L4</th>  <td>    1.3761</td> <td>    0.507</td> <td>    2.713</td> <td> 0.007</td> <td>    0.382</td> <td>    2.370</td>\n",
              "</tr>\n",
              "<tr>\n",
              "  <th>ma.L5</th>  <td>   -1.2166</td> <td>    0.575</td> <td>   -2.116</td> <td> 0.034</td> <td>   -2.344</td> <td>   -0.090</td>\n",
              "</tr>\n",
              "<tr>\n",
              "  <th>ma.L6</th>  <td>    1.0831</td> <td>    0.660</td> <td>    1.640</td> <td> 0.101</td> <td>   -0.211</td> <td>    2.378</td>\n",
              "</tr>\n",
              "<tr>\n",
              "  <th>ma.L7</th>  <td>   -1.0701</td> <td>    0.715</td> <td>   -1.497</td> <td> 0.134</td> <td>   -2.471</td> <td>    0.331</td>\n",
              "</tr>\n",
              "<tr>\n",
              "  <th>ma.L8</th>  <td>    0.8861</td> <td>    0.819</td> <td>    1.082</td> <td> 0.279</td> <td>   -0.719</td> <td>    2.491</td>\n",
              "</tr>\n",
              "<tr>\n",
              "  <th>ma.L9</th>  <td>   -0.7852</td> <td>    0.737</td> <td>   -1.066</td> <td> 0.287</td> <td>   -2.229</td> <td>    0.659</td>\n",
              "</tr>\n",
              "<tr>\n",
              "  <th>ma.L10</th> <td>    0.5230</td> <td>    0.601</td> <td>    0.870</td> <td> 0.384</td> <td>   -0.656</td> <td>    1.702</td>\n",
              "</tr>\n",
              "<tr>\n",
              "  <th>ma.L11</th> <td>   -0.4130</td> <td>    0.455</td> <td>   -0.908</td> <td> 0.364</td> <td>   -1.305</td> <td>    0.479</td>\n",
              "</tr>\n",
              "<tr>\n",
              "  <th>ma.L12</th> <td>    0.1336</td> <td>    0.273</td> <td>    0.489</td> <td> 0.625</td> <td>   -0.402</td> <td>    0.669</td>\n",
              "</tr>\n",
              "<tr>\n",
              "  <th>sigma2</th> <td>   77.2663</td> <td>   16.217</td> <td>    4.764</td> <td> 0.000</td> <td>   45.481</td> <td>  109.051</td>\n",
              "</tr>\n",
              "</table>\n",
              "<table class=\"simpletable\">\n",
              "<tr>\n",
              "  <th>Ljung-Box (L1) (Q):</th>     <td>0.00</td> <th>  Jarque-Bera (JB):  </th> <td>4.74</td>\n",
              "</tr>\n",
              "<tr>\n",
              "  <th>Prob(Q):</th>                <td>0.99</td> <th>  Prob(JB):          </th> <td>0.09</td>\n",
              "</tr>\n",
              "<tr>\n",
              "  <th>Heteroskedasticity (H):</th> <td>2.12</td> <th>  Skew:              </th> <td>0.59</td>\n",
              "</tr>\n",
              "<tr>\n",
              "  <th>Prob(H) (two-sided):</th>    <td>0.06</td> <th>  Kurtosis:          </th> <td>2.89</td>\n",
              "</tr>\n",
              "</table><br/><br/>Warnings:<br/>[1] Covariance matrix calculated using the outer product of gradients (complex-step)."
            ]
          },
          "metadata": {},
          "execution_count": 55
        }
      ]
    },
    {
      "cell_type": "code",
      "source": [
        "pred_start_date=testdata.index[0]\n",
        "pred_end_date=testdata.index[-1]"
      ],
      "metadata": {
        "id": "JF0sZqJOKGQl"
      },
      "execution_count": null,
      "outputs": []
    },
    {
      "cell_type": "code",
      "source": [
        "pred=model_arima_fit.predict(start=pred_start_date,end=pred_end_date)"
      ],
      "metadata": {
        "id": "5G6JqhORKgtS"
      },
      "execution_count": null,
      "outputs": []
    },
    {
      "cell_type": "code",
      "source": [
        "residuals=testdata['Thousands of Passengers']-pred"
      ],
      "metadata": {
        "id": "kjV39VCTKsFv"
      },
      "execution_count": null,
      "outputs": []
    },
    {
      "cell_type": "code",
      "source": [
        "residuals\n"
      ],
      "metadata": {
        "colab": {
          "base_uri": "https://localhost:8080/"
        },
        "id": "98TLYPptK6gZ",
        "outputId": "6d0595f6-9af9-4e9a-ffb1-1076a2bbc285"
      },
      "execution_count": null,
      "outputs": [
        {
          "output_type": "execute_result",
          "data": {
            "text/plain": [
              "Month\n",
              "1956-01-01      0.755907\n",
              "1956-02-01      7.483366\n",
              "1956-03-01     21.814335\n",
              "1956-04-01     14.409535\n",
              "1956-05-01     18.898844\n",
              "1956-06-01     28.643513\n",
              "1956-07-01     24.517730\n",
              "1956-08-01     33.110557\n",
              "1956-09-01     14.908693\n",
              "1956-10-01      3.101660\n",
              "1956-11-01     -0.800719\n",
              "1956-12-01      3.374272\n",
              "1957-01-01      3.923324\n",
              "1957-02-01      7.196091\n",
              "1957-03-01     39.036242\n",
              "1957-04-01     23.481795\n",
              "1957-05-01     28.894793\n",
              "1957-06-01     49.296191\n",
              "1957-07-01     50.450342\n",
              "1957-08-01     70.449114\n",
              "1957-09-01     38.702232\n",
              "1957-10-01     14.777529\n",
              "1957-11-01      2.498343\n",
              "1957-12-01      6.546215\n",
              "1958-01-01      1.460923\n",
              "1958-02-01     -0.391976\n",
              "1958-03-01     23.046583\n",
              "1958-04-01     -2.520303\n",
              "1958-05-01      9.765037\n",
              "1958-06-01     35.422927\n",
              "1958-07-01     50.518704\n",
              "1958-08-01     83.707445\n",
              "1958-09-01     13.326792\n",
              "1958-10-01     -2.575267\n",
              "1958-11-01    -23.157912\n",
              "1958-12-01    -19.286357\n",
              "1959-01-01     -5.685713\n",
              "1959-02-01     -1.251762\n",
              "1959-03-01     44.813430\n",
              "1959-04-01     19.443220\n",
              "1959-05-01     39.533805\n",
              "1959-06-01     45.968595\n",
              "1959-07-01     81.744869\n",
              "1959-08-01    112.851028\n",
              "1959-09-01     46.803666\n",
              "1959-10-01     16.060811\n",
              "1959-11-01     -1.761124\n",
              "1959-12-01     21.885846\n",
              "1960-01-01     24.435765\n",
              "1960-02-01     22.639827\n",
              "1960-03-01     35.315329\n",
              "1960-04-01     58.402657\n",
              "1960-05-01     64.227112\n",
              "1960-06-01     82.880115\n",
              "1960-07-01    130.144264\n",
              "1960-08-01    134.856500\n",
              "1960-09-01     66.146725\n",
              "1960-10-01     40.706986\n",
              "1960-11-01     -4.305625\n",
              "1960-12-01     22.068679\n",
              "dtype: float64"
            ]
          },
          "metadata": {},
          "execution_count": 65
        }
      ]
    },
    {
      "cell_type": "code",
      "source": [
        "model_arima_fit.resid.plot(kind='kde')"
      ],
      "metadata": {
        "colab": {
          "base_uri": "https://localhost:8080/",
          "height": 447
        },
        "id": "39f4JDCaLGJo",
        "outputId": "bf0fd824-0c4b-4e70-bd22-da04f7e32b6d"
      },
      "execution_count": null,
      "outputs": [
        {
          "output_type": "execute_result",
          "data": {
            "text/plain": [
              "<Axes: ylabel='Density'>"
            ]
          },
          "metadata": {},
          "execution_count": 68
        },
        {
          "output_type": "display_data",
          "data": {
            "text/plain": [
              "<Figure size 640x480 with 1 Axes>"
            ],
            "image/png": "[encoded data removed]"
          },
          "metadata": {}
        }
      ]
    },
    {
      "cell_type": "code",
      "source": [
        "testdata['Predicted']=pred"
      ],
      "metadata": {
        "colab": {
          "base_uri": "https://localhost:8080/"
        },
        "id": "T5ihB8AaMa3v",
        "outputId": "82b87f96-0f7c-45e5-dd1c-588a0bcdb161"
      },
      "execution_count": null,
      "outputs": [
        {
          "output_type": "stream",
          "name": "stderr",
          "text": [
            "<ipython-input-69-8f5e4d195d78>:1: SettingWithCopyWarning: \n",
            "A value is trying to be set on a copy of a slice from a DataFrame.\n",
            "Try using .loc[row_indexer,col_indexer] = value instead\n",
            "\n",
            "See the caveats in the documentation: https://pandas.pydata.org/pandas-docs/stable/user_guide/indexing.html#returning-a-view-versus-a-copy\n",
            "  testdata['Predicted']=pred\n"
          ]
        }
      ]
    },
    {
      "cell_type": "code",
      "source": [
        "testdata[['Thousands of Passengers','Predicted']].plot()"
      ],
      "metadata": {
        "colab": {
          "base_uri": "https://localhost:8080/",
          "height": 466
        },
        "id": "jcSVrjcAMi8x",
        "outputId": "95327248-89ea-4a05-ce86-1e85b00d7846"
      },
      "execution_count": null,
      "outputs": [
        {
          "output_type": "execute_result",
          "data": {
            "text/plain": [
              "<Axes: xlabel='Month'>"
            ]
          },
          "metadata": {},
          "execution_count": 71
        },
        {
          "output_type": "display_data",
          "data": {
            "text/plain": [
              "<Figure size 640x480 with 1 Axes>"
            ],
            "image/png": "[encoded data removed]"
          },
          "metadata": {}
        }
      ]
    }
  ]
}